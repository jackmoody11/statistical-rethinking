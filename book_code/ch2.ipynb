{
 "metadata": {
  "language_info": {
   "codemirror_mode": {
    "name": "ipython",
    "version": 3
   },
   "file_extension": ".py",
   "mimetype": "text/x-python",
   "name": "python",
   "nbconvert_exporter": "python",
   "pygments_lexer": "ipython3",
   "version": "3.7.3-final"
  },
  "orig_nbformat": 2,
  "kernelspec": {
   "name": "python_defaultSpec_1597845447679",
   "display_name": "Python 3.7.3 64-bit ('venv': venv)"
  }
 },
 "nbformat": 4,
 "nbformat_minor": 2,
 "cells": [
  {
   "cell_type": "code",
   "execution_count": 19,
   "metadata": {
    "tags": []
   },
   "outputs": [
    {
     "output_type": "stream",
     "name": "stdout",
     "text": "Probabilities of having n blue marbles: [(0, 0.0), (1, 0.15), (2, 0.4), (3, 0.45), (4, 0.0)]\n"
    }
   ],
   "source": [
    "import pandas as pd\n",
    "import numpy as np\n",
    "\n",
    "### Example 2.1\n",
    "# 1 indicates blue marble and 0 indicates white marble\n",
    "possibilities = np.array([[0, 0, 0, 0], [1, 0, 0, 0], [1, 1, 0, 0], [1, 1, 1, 0], [1, 1, 1, 1]])\n",
    "observed = np.array([1, 0, 1])\n",
    "\n",
    "# Find number of ways to observe the observed given each possibility\n",
    "num_ways_to_observe = np.vstack([(possibilities == o).sum(axis=1) for o in observed]).prod(axis=0)\n",
    "probabilities = num_ways_to_observe / sum(num_ways_to_observe)\n",
    "print(\"Probabilities of having n blue marbles:\", list(enumerate(probabilities)))\n"
   ]
  },
  {
   "cell_type": "code",
   "execution_count": null,
   "metadata": {},
   "outputs": [],
   "source": []
  },
  {
   "cell_type": "code",
   "execution_count": null,
   "metadata": {},
   "outputs": [],
   "source": []
  }
 ]
}